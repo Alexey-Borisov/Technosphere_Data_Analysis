{
 "cells": [
  {
   "cell_type": "code",
   "execution_count": 26,
   "metadata": {},
   "outputs": [],
   "source": [
    "import requests\n",
    "from time import sleep\n",
    "from tqdm import tqdm\n",
    "from typing import Generator, Dict, Any\n",
    "from multiprocessing.dummy import Pool, Queue\n",
    "import re\n",
    "import pandas as pd\n",
    "import gzip\n",
    "import os\n",
    "import sys\n",
    "import codecs\n",
    "import json\n",
    "from bs4 import BeautifulSoup"
   ]
  },
  {
   "cell_type": "code",
   "execution_count": 2,
   "metadata": {},
   "outputs": [],
   "source": [
    "def get_page(url, n_attempts=5, t_sleep=1, **kwargs):\n",
    "    for i in range(n_attempts):\n",
    "        r_get = requests.get(url)\n",
    "        if r_get.ok is True:\n",
    "            return r_get\n",
    "        else:\n",
    "            sleep(t_sleep)\n",
    "    return None"
   ]
  },
  {
   "cell_type": "code",
   "execution_count": 3,
   "metadata": {},
   "outputs": [],
   "source": [
    "# Функция получения списка книг со страницы\n",
    "def get_books(url):\n",
    "    books = []\n",
    "    r_get = get_page(url)\n",
    "    if r_get is None:\n",
    "        print(\"\\nPage\", url, \"is not available\", file=sys.stderr)\n",
    "        return []\n",
    "    soup = BeautifulSoup(r_get.text, \"lxml\")\n",
    "    tags = soup.find_all('div', class_='bxr-element-name', id=re.compile('bxr-element-name-[0-9]+'))\n",
    "    for tag in tags:\n",
    "        book = re.search(r'/catalog-products/[^/]+/', str(tag)).group(0)\n",
    "        books.append(book[18:-1])\n",
    "    return books"
   ]
  },
  {
   "cell_type": "code",
   "execution_count": 4,
   "metadata": {},
   "outputs": [],
   "source": [
    "# Функция парсинга одной страницы с информацией о книге\n",
    "def process_page(url):\n",
    "    book_info = dict()\n",
    "    r_get = get_page(url)\n",
    "    if r_get is None:\n",
    "        print(\"\\nPage\", url, \"is not available\", file=sys.stderr)\n",
    "        return None\n",
    "    soup = BeautifulSoup(r_get.text, \"lxml\")\n",
    "    if soup is None:\n",
    "        print(\"\\nPage\", url, \"parsing failed\", file=sys.stderr)\n",
    "        return None\n",
    "    main = soup.find(\"div\", itemtype=\"http://schema.org/Product\")\n",
    "    if main is None:\n",
    "        print(\"\\nPage\", url, \"parsing failed\", file=sys.stderr)\n",
    "        return None\n",
    "    left_part = main.find(\"div\", attrs={\"class\": \"bxr-element-slider\"})\n",
    "    right_part = main.find(\"div\", attrs={\"class\": \"bxr-preview-detail-col\"})\n",
    "    price_part = main.find(\"div\", attrs={\"class\": \"bxr-prices-detail-col\"})\n",
    "    if left_part is None or right_part is None or price_part is None:\n",
    "        print(\"\\nPage\", url, \"parsing failed\", file=sys.stderr)\n",
    "        return None\n",
    "\n",
    "    book_info[\"url\"] = url\n",
    "    \n",
    "    book_info[\"Название\"] = main.find(\"h1\", itemprop=\"name\").text\n",
    "    \n",
    "    img_part = left_part.find(\"div\", attrs={\"class\": \"bxr-element-slider-main\"})\n",
    "    if img_part is None:\n",
    "        print(\"\\nPage\", url, \"parsing failed\", file=sys.stderr)\n",
    "        return None\n",
    "    book_info[\"Иллюстрации\"] = list(map(lambda x: x.attrs[\"data-src\"], img_part.find_all(\"img\", title=book_info[\"Название\"])))\n",
    "    \n",
    "    marks_part = left_part.find(\"div\", attrs={\"class\": \"bxr-ribbon-marker-vertical\"})\n",
    "    if marks_part is None:\n",
    "        print(\"\\nPage\", url, \"parsing failed\", file=sys.stderr)\n",
    "        return None\n",
    "    book_info[\"Метки\"] = marks_part.text.split(\"\\n\")[1:-1]\n",
    "    \n",
    "    rating_part = right_part.find(\"div\", attrs={\"class\": \"bxr-rating-detail\"})\n",
    "    if rating_part is None:\n",
    "        print(\"\\nPage\", url, \"parsing failed\", file=sys.stderr)\n",
    "        return None\n",
    "    value = rating_part.find(\"meta\", attrs={\"itemprop\": \"ratingValue\"})\n",
    "    if value is not None:\n",
    "        book_info[\"Оценка\"] = value.attrs[\"content\"]\n",
    "        book_info[\"Число голосов\"] = rating_part.find(\"meta\", attrs={\"itemprop\": \"ratingCount\"}).attrs[\"content\"]\n",
    "    else:\n",
    "        book_info[\"Оценка\"] = 0\n",
    "        book_info[\"Число голосов\"] = 0\n",
    "    \n",
    "    book_info[\"Наличие\"] = price_part.find(\"div\", attrs={\"itemprop\": \"availability\"}).text\n",
    "    text = ' '.join(list(map(lambda x: str(x), soup.find_all(\"script\"))))\n",
    "    res = re.search(r'\\\"PRICE\\\" : \\d+(\\.\\d+)?,\\\n",
    "                \\\"MEASURE\\\": \\'<span class=\\\"bxr-detail-measure\\\">/ шт.</span>\\',\\\n",
    "                \\\"PRICE_FORMAT\\\": \\\"\\d+(\\.\\d+)? <span class=\\'bxr-detail-currency\\'>руб</span>\\\",\\\n",
    "                \\\"PRICE_ORIGIN\\\" : \\d+(\\.\\d+)?,', text)\n",
    "    if res is not None:\n",
    "        res = res.group(0).split()\n",
    "        book_info[\"Цена\"] = res[13][:-1]\n",
    "        book_info[\"Цена (скидка)\"] = res[2][:-1]\n",
    "    else:\n",
    "        book_info[\"Цена\"] = price_part.find(\"meta\", attrs={\"itemprop\": \"price\"}).attrs[\"content\"]\n",
    "    \n",
    "    table = right_part.find_all(\"td\")\n",
    "    i = 0\n",
    "    while i != len(table):\n",
    "        book_info[table[i].text] = table[i + 1].text[1:-1]\n",
    "        if table[i].text == \"Издатель\":\n",
    "               book_info[table[i].text] = book_info[table[i].text][:-20]\n",
    "        i += 2\n",
    "        \n",
    "    \n",
    "    description = soup.find(\"div\", attrs={\"data-scroll\": \"DETAIL\"}).text\n",
    "    if description is None:\n",
    "        print(\"\\nPage\", url, \"parsing failed\", file=sys.stderr)\n",
    "        return None\n",
    "    book_info[\"Описание\"] = \"\".join(re.findall(r\"([^\\s]+| )\", description))\n",
    "    \n",
    "    return book_info"
   ]
  },
  {
   "cell_type": "code",
   "execution_count": 115,
   "metadata": {},
   "outputs": [],
   "source": [
    "def records_reader(filename: str) -> Generator[Dict[str, Any], None, None]:\n",
    "    with gzip.open(filename, \"r\") as file:\n",
    "        for line in file:\n",
    "            json_dict = json.loads(line)\n",
    "            yield json_dict\n",
    "\n",
    "df = pd.DataFrame(records_reader(\"parse.json.gz\"))\n",
    "df.to_csv('hw_3.csv', index=False)"
   ]
  },
  {
   "cell_type": "code",
   "execution_count": 7,
   "metadata": {},
   "outputs": [
    {
     "name": "stderr",
     "output_type": "stream",
     "text": [
      " 24%|███████████████████▍                                                             | 60/250 [00:22<01:11,  2.67it/s]\n"
     ]
    },
    {
     "ename": "KeyboardInterrupt",
     "evalue": "",
     "output_type": "error",
     "traceback": [
      "\u001b[1;31m---------------------------------------------------------------------------\u001b[0m",
      "\u001b[1;31mKeyboardInterrupt\u001b[0m                         Traceback (most recent call last)",
      "\u001b[1;32m<timed exec>\u001b[0m in \u001b[0;36m<module>\u001b[1;34m\u001b[0m\n",
      "\u001b[1;32m<ipython-input-4-f8436505739f>\u001b[0m in \u001b[0;36mget_books\u001b[1;34m(url)\u001b[0m\n\u001b[0;32m      6\u001b[0m         \u001b[0mprint\u001b[0m\u001b[1;33m(\u001b[0m\u001b[1;34m\"\\nPage\"\u001b[0m\u001b[1;33m,\u001b[0m \u001b[0murl\u001b[0m\u001b[1;33m,\u001b[0m \u001b[1;34m\"is not available\"\u001b[0m\u001b[1;33m,\u001b[0m \u001b[0mfile\u001b[0m\u001b[1;33m=\u001b[0m\u001b[0msys\u001b[0m\u001b[1;33m.\u001b[0m\u001b[0mstderr\u001b[0m\u001b[1;33m)\u001b[0m\u001b[1;33m\u001b[0m\u001b[1;33m\u001b[0m\u001b[0m\n\u001b[0;32m      7\u001b[0m         \u001b[1;32mreturn\u001b[0m \u001b[1;33m[\u001b[0m\u001b[1;33m]\u001b[0m\u001b[1;33m\u001b[0m\u001b[1;33m\u001b[0m\u001b[0m\n\u001b[1;32m----> 8\u001b[1;33m     \u001b[0msoup\u001b[0m \u001b[1;33m=\u001b[0m \u001b[0mBeautifulSoup\u001b[0m\u001b[1;33m(\u001b[0m\u001b[0mr_get\u001b[0m\u001b[1;33m.\u001b[0m\u001b[0mtext\u001b[0m\u001b[1;33m,\u001b[0m \u001b[1;34m\"lxml\"\u001b[0m\u001b[1;33m)\u001b[0m\u001b[1;33m\u001b[0m\u001b[1;33m\u001b[0m\u001b[0m\n\u001b[0m\u001b[0;32m      9\u001b[0m     \u001b[0mtags\u001b[0m \u001b[1;33m=\u001b[0m \u001b[0msoup\u001b[0m\u001b[1;33m.\u001b[0m\u001b[0mfind_all\u001b[0m\u001b[1;33m(\u001b[0m\u001b[1;34m'div'\u001b[0m\u001b[1;33m,\u001b[0m \u001b[0mclass_\u001b[0m\u001b[1;33m=\u001b[0m\u001b[1;34m'bxr-element-name'\u001b[0m\u001b[1;33m,\u001b[0m \u001b[0mid\u001b[0m\u001b[1;33m=\u001b[0m\u001b[0mre\u001b[0m\u001b[1;33m.\u001b[0m\u001b[0mcompile\u001b[0m\u001b[1;33m(\u001b[0m\u001b[1;34m'bxr-element-name-[0-9]+'\u001b[0m\u001b[1;33m)\u001b[0m\u001b[1;33m)\u001b[0m\u001b[1;33m\u001b[0m\u001b[1;33m\u001b[0m\u001b[0m\n\u001b[0;32m     10\u001b[0m     \u001b[1;32mfor\u001b[0m \u001b[0mtag\u001b[0m \u001b[1;32min\u001b[0m \u001b[0mtags\u001b[0m\u001b[1;33m:\u001b[0m\u001b[1;33m\u001b[0m\u001b[1;33m\u001b[0m\u001b[0m\n",
      "\u001b[1;32mc:\\users\\boris\\appdata\\local\\programs\\python\\python38-32\\lib\\site-packages\\bs4\\__init__.py\u001b[0m in \u001b[0;36m__init__\u001b[1;34m(self, markup, features, builder, parse_only, from_encoding, exclude_encodings, element_classes, **kwargs)\u001b[0m\n\u001b[0;32m    346\u001b[0m             \u001b[0mself\u001b[0m\u001b[1;33m.\u001b[0m\u001b[0mreset\u001b[0m\u001b[1;33m(\u001b[0m\u001b[1;33m)\u001b[0m\u001b[1;33m\u001b[0m\u001b[1;33m\u001b[0m\u001b[0m\n\u001b[0;32m    347\u001b[0m             \u001b[1;32mtry\u001b[0m\u001b[1;33m:\u001b[0m\u001b[1;33m\u001b[0m\u001b[1;33m\u001b[0m\u001b[0m\n\u001b[1;32m--> 348\u001b[1;33m                 \u001b[0mself\u001b[0m\u001b[1;33m.\u001b[0m\u001b[0m_feed\u001b[0m\u001b[1;33m(\u001b[0m\u001b[1;33m)\u001b[0m\u001b[1;33m\u001b[0m\u001b[1;33m\u001b[0m\u001b[0m\n\u001b[0m\u001b[0;32m    349\u001b[0m                 \u001b[0msuccess\u001b[0m \u001b[1;33m=\u001b[0m \u001b[1;32mTrue\u001b[0m\u001b[1;33m\u001b[0m\u001b[1;33m\u001b[0m\u001b[0m\n\u001b[0;32m    350\u001b[0m                 \u001b[1;32mbreak\u001b[0m\u001b[1;33m\u001b[0m\u001b[1;33m\u001b[0m\u001b[0m\n",
      "\u001b[1;32mc:\\users\\boris\\appdata\\local\\programs\\python\\python38-32\\lib\\site-packages\\bs4\\__init__.py\u001b[0m in \u001b[0;36m_feed\u001b[1;34m(self)\u001b[0m\n\u001b[0;32m    432\u001b[0m         \u001b[0mself\u001b[0m\u001b[1;33m.\u001b[0m\u001b[0mbuilder\u001b[0m\u001b[1;33m.\u001b[0m\u001b[0mreset\u001b[0m\u001b[1;33m(\u001b[0m\u001b[1;33m)\u001b[0m\u001b[1;33m\u001b[0m\u001b[1;33m\u001b[0m\u001b[0m\n\u001b[0;32m    433\u001b[0m \u001b[1;33m\u001b[0m\u001b[0m\n\u001b[1;32m--> 434\u001b[1;33m         \u001b[0mself\u001b[0m\u001b[1;33m.\u001b[0m\u001b[0mbuilder\u001b[0m\u001b[1;33m.\u001b[0m\u001b[0mfeed\u001b[0m\u001b[1;33m(\u001b[0m\u001b[0mself\u001b[0m\u001b[1;33m.\u001b[0m\u001b[0mmarkup\u001b[0m\u001b[1;33m)\u001b[0m\u001b[1;33m\u001b[0m\u001b[1;33m\u001b[0m\u001b[0m\n\u001b[0m\u001b[0;32m    435\u001b[0m         \u001b[1;31m# Close out any unfinished strings and close all the open tags.\u001b[0m\u001b[1;33m\u001b[0m\u001b[1;33m\u001b[0m\u001b[1;33m\u001b[0m\u001b[0m\n\u001b[0;32m    436\u001b[0m         \u001b[0mself\u001b[0m\u001b[1;33m.\u001b[0m\u001b[0mendData\u001b[0m\u001b[1;33m(\u001b[0m\u001b[1;33m)\u001b[0m\u001b[1;33m\u001b[0m\u001b[1;33m\u001b[0m\u001b[0m\n",
      "\u001b[1;32mc:\\users\\boris\\appdata\\local\\programs\\python\\python38-32\\lib\\site-packages\\bs4\\builder\\_lxml.py\u001b[0m in \u001b[0;36mfeed\u001b[1;34m(self, markup)\u001b[0m\n\u001b[0;32m    322\u001b[0m         \u001b[1;32mtry\u001b[0m\u001b[1;33m:\u001b[0m\u001b[1;33m\u001b[0m\u001b[1;33m\u001b[0m\u001b[0m\n\u001b[0;32m    323\u001b[0m             \u001b[0mself\u001b[0m\u001b[1;33m.\u001b[0m\u001b[0mparser\u001b[0m \u001b[1;33m=\u001b[0m \u001b[0mself\u001b[0m\u001b[1;33m.\u001b[0m\u001b[0mparser_for\u001b[0m\u001b[1;33m(\u001b[0m\u001b[0mencoding\u001b[0m\u001b[1;33m)\u001b[0m\u001b[1;33m\u001b[0m\u001b[1;33m\u001b[0m\u001b[0m\n\u001b[1;32m--> 324\u001b[1;33m             \u001b[0mself\u001b[0m\u001b[1;33m.\u001b[0m\u001b[0mparser\u001b[0m\u001b[1;33m.\u001b[0m\u001b[0mfeed\u001b[0m\u001b[1;33m(\u001b[0m\u001b[0mmarkup\u001b[0m\u001b[1;33m)\u001b[0m\u001b[1;33m\u001b[0m\u001b[1;33m\u001b[0m\u001b[0m\n\u001b[0m\u001b[0;32m    325\u001b[0m             \u001b[0mself\u001b[0m\u001b[1;33m.\u001b[0m\u001b[0mparser\u001b[0m\u001b[1;33m.\u001b[0m\u001b[0mclose\u001b[0m\u001b[1;33m(\u001b[0m\u001b[1;33m)\u001b[0m\u001b[1;33m\u001b[0m\u001b[1;33m\u001b[0m\u001b[0m\n\u001b[0;32m    326\u001b[0m         \u001b[1;32mexcept\u001b[0m \u001b[1;33m(\u001b[0m\u001b[0mUnicodeDecodeError\u001b[0m\u001b[1;33m,\u001b[0m \u001b[0mLookupError\u001b[0m\u001b[1;33m,\u001b[0m \u001b[0metree\u001b[0m\u001b[1;33m.\u001b[0m\u001b[0mParserError\u001b[0m\u001b[1;33m)\u001b[0m \u001b[1;32mas\u001b[0m \u001b[0me\u001b[0m\u001b[1;33m:\u001b[0m\u001b[1;33m\u001b[0m\u001b[1;33m\u001b[0m\u001b[0m\n",
      "\u001b[1;32msrc\\lxml\\parser.pxi\u001b[0m in \u001b[0;36mlxml.etree._FeedParser.feed\u001b[1;34m()\u001b[0m\n",
      "\u001b[1;32msrc\\lxml\\parser.pxi\u001b[0m in \u001b[0;36mlxml.etree._FeedParser.feed\u001b[1;34m()\u001b[0m\n",
      "\u001b[1;32msrc\\lxml\\parsertarget.pxi\u001b[0m in \u001b[0;36mlxml.etree._TargetParserContext._handleParseResult\u001b[1;34m()\u001b[0m\n",
      "\u001b[1;32msrc\\lxml\\parsertarget.pxi\u001b[0m in \u001b[0;36mlxml.etree._TargetParserContext._handleParseResult\u001b[1;34m()\u001b[0m\n",
      "\u001b[1;32msrc\\lxml\\etree.pyx\u001b[0m in \u001b[0;36mlxml.etree._ExceptionContext._raise_if_stored\u001b[1;34m()\u001b[0m\n",
      "\u001b[1;32msrc\\lxml\\saxparser.pxi\u001b[0m in \u001b[0;36mlxml.etree._handleSaxTargetStartNoNs\u001b[1;34m()\u001b[0m\n",
      "\u001b[1;32msrc\\lxml\\saxparser.pxi\u001b[0m in \u001b[0;36mlxml.etree._callTargetSaxStart\u001b[1;34m()\u001b[0m\n",
      "\u001b[1;32msrc\\lxml\\parsertarget.pxi\u001b[0m in \u001b[0;36mlxml.etree._PythonSaxParserTarget._handleSaxStart\u001b[1;34m()\u001b[0m\n",
      "\u001b[1;32mc:\\users\\boris\\appdata\\local\\programs\\python\\python38-32\\lib\\site-packages\\bs4\\builder\\_lxml.py\u001b[0m in \u001b[0;36mstart\u001b[1;34m(self, name, attrs, nsmap)\u001b[0m\n\u001b[0;32m    211\u001b[0m         \u001b[0mself\u001b[0m\u001b[1;33m.\u001b[0m\u001b[0mnsmaps\u001b[0m \u001b[1;33m=\u001b[0m \u001b[1;33m[\u001b[0m\u001b[0mself\u001b[0m\u001b[1;33m.\u001b[0m\u001b[0mDEFAULT_NSMAPS_INVERTED\u001b[0m\u001b[1;33m]\u001b[0m\u001b[1;33m\u001b[0m\u001b[1;33m\u001b[0m\u001b[0m\n\u001b[0;32m    212\u001b[0m \u001b[1;33m\u001b[0m\u001b[0m\n\u001b[1;32m--> 213\u001b[1;33m     \u001b[1;32mdef\u001b[0m \u001b[0mstart\u001b[0m\u001b[1;33m(\u001b[0m\u001b[0mself\u001b[0m\u001b[1;33m,\u001b[0m \u001b[0mname\u001b[0m\u001b[1;33m,\u001b[0m \u001b[0mattrs\u001b[0m\u001b[1;33m,\u001b[0m \u001b[0mnsmap\u001b[0m\u001b[1;33m=\u001b[0m\u001b[1;33m{\u001b[0m\u001b[1;33m}\u001b[0m\u001b[1;33m)\u001b[0m\u001b[1;33m:\u001b[0m\u001b[1;33m\u001b[0m\u001b[1;33m\u001b[0m\u001b[0m\n\u001b[0m\u001b[0;32m    214\u001b[0m         \u001b[1;31m# Make sure attrs is a mutable dict--lxml may send an immutable dictproxy.\u001b[0m\u001b[1;33m\u001b[0m\u001b[1;33m\u001b[0m\u001b[1;33m\u001b[0m\u001b[0m\n\u001b[0;32m    215\u001b[0m         \u001b[0mattrs\u001b[0m \u001b[1;33m=\u001b[0m \u001b[0mdict\u001b[0m\u001b[1;33m(\u001b[0m\u001b[0mattrs\u001b[0m\u001b[1;33m)\u001b[0m\u001b[1;33m\u001b[0m\u001b[1;33m\u001b[0m\u001b[0m\n",
      "\u001b[1;31mKeyboardInterrupt\u001b[0m: "
     ]
    }
   ],
   "source": [
    "%%time\n",
    "# main\n",
    "base_address = 'https://shop.relod.ru/catalog-products/4577/?sort=PROPERTY_RATING&order=desc&PAGEN_1='\n",
    "books = []\n",
    "for page_num in tqdm(range(1, 251)):\n",
    "    page_address = base_address + str(page_num)\n",
    "    books.extend(get_books(page_address))\n",
    "\n",
    "info = []\n",
    "base_address = \"https://shop.relod.ru/catalog-products/\"\n",
    "with gzip.open('parse.json.gz', mode='wb') as f_json:\n",
    "    f_json = codecs.getwriter('utf8')(f_json)\n",
    "    for book in tqdm(books):\n",
    "        book_url = base_address + book + \"/\"\n",
    "        record = process_page(book_url)\n",
    "        if record is None:\n",
    "            continue\n",
    "        record_str = json.dumps(record, ensure_ascii=False)\n",
    "        print(record_str, file=f_json)"
   ]
  },
  {
   "cell_type": "code",
   "execution_count": 10,
   "metadata": {
    "scrolled": true
   },
   "outputs": [
    {
     "name": "stderr",
     "output_type": "stream",
     "text": [
      "\r",
      "  0%|                                                                                         | 0/5000 [00:00<?, ?it/s]"
     ]
    },
    {
     "name": "stdout",
     "output_type": "stream",
     "text": [
      "False\n"
     ]
    },
    {
     "name": "stderr",
     "output_type": "stream",
     "text": [
      "100%|██████████████████████████████████████████████████████████████████████████████| 5000/5000 [37:03<00:00,  2.25it/s]"
     ]
    },
    {
     "name": "stdout",
     "output_type": "stream",
     "text": [
      "Wall time: 37min 3s\n"
     ]
    },
    {
     "name": "stderr",
     "output_type": "stream",
     "text": [
      "\n"
     ]
    }
   ],
   "source": [
    "%%time\n",
    "# main\n",
    "base_address = 'https://shop.relod.ru/catalog-products/4577/?sort=PROPERTY_RATING&order=desc&PAGEN_1='\n",
    "books = []\n",
    "for page_num in tqdm(range(1, 251)):\n",
    "    page_address = base_address + str(page_num)\n",
    "    books.extend(get_books(page_address))\n",
    "\n",
    "base_address = \"https://shop.relod.ru/catalog-products/\"\n",
    "queue = Queue()   \n",
    "for book in books:\n",
    "    queue.put(base_address + book + \"/\")\n",
    "\n",
    "def process_page_wrapper(i):\n",
    "    with gzip.open('parse.json.gz', mode='wb') as f_json:\n",
    "        f_json = codecs.getwriter('utf8')(f_json)\n",
    "\n",
    "        while not queue.empty():\n",
    "            record = process_page(queue.get())\n",
    "            record_str = json.dumps(record, ensure_ascii=False)\n",
    "            print(record_str, file=f_json)\n",
    "\n",
    "            # счетчик должен атомарно обновиться\n",
    "            with lock:\n",
    "                pbar.update(1)\n",
    "\n",
    "\n",
    "with Pool(processes=8) as pool, tqdm(total=queue.qsize()) as pbar:\n",
    "    lock = pbar.get_lock()\n",
    "    pool.map(process_page_wrapper, range(pool._processes))"
   ]
  },
  {
   "cell_type": "code",
   "execution_count": 6,
   "metadata": {},
   "outputs": [],
   "source": [
    "def func(p):\n",
    "    res = 1\n",
    "    for i in range(1, 1000):\n",
    "        res *= i"
   ]
  },
  {
   "cell_type": "code",
   "execution_count": 48,
   "metadata": {},
   "outputs": [
    {
     "name": "stdout",
     "output_type": "stream",
     "text": [
      "10416\n",
      "10416\n",
      "10416\n"
     ]
    },
    {
     "data": {
      "text/plain": [
       "[10, 20, 40]"
      ]
     },
     "execution_count": 48,
     "metadata": {},
     "output_type": "execute_result"
    }
   ],
   "source": [
    "#%%timeit\n",
    "def doubler(number):\n",
    "    print(os.getpid())\n",
    "    return number * 2\n",
    " \n",
    "numbers = [5, 10, 20]\n",
    "pool = Pool(processes=3)\n",
    "pool.map(doubler, numbers)"
   ]
  },
  {
   "cell_type": "code",
   "execution_count": null,
   "metadata": {},
   "outputs": [],
   "source": []
  }
 ],
 "metadata": {
  "kernelspec": {
   "display_name": "Python 3",
   "language": "python",
   "name": "python3"
  },
  "language_info": {
   "codemirror_mode": {
    "name": "ipython",
    "version": 3
   },
   "file_extension": ".py",
   "mimetype": "text/x-python",
   "name": "python",
   "nbconvert_exporter": "python",
   "pygments_lexer": "ipython3",
   "version": "3.8.5"
  }
 },
 "nbformat": 4,
 "nbformat_minor": 4
}
